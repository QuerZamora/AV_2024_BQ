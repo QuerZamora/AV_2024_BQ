{
 "cells": [
  {
   "cell_type": "code",
   "execution_count": 1,
   "metadata": {
    "_cell_guid": "b1076dfc-b9ad-4769-8c92-a6c4dae69d19",
    "_uuid": "8f2839f25d086af736a60e9eeb907d3b93b6e0e5",
    "execution": {
     "iopub.execute_input": "2024-11-19T08:59:47.740939Z",
     "iopub.status.busy": "2024-11-19T08:59:47.740573Z",
     "iopub.status.idle": "2024-11-19T08:59:48.839569Z",
     "shell.execute_reply": "2024-11-19T08:59:48.838419Z",
     "shell.execute_reply.started": "2024-11-19T08:59:47.740902Z"
    },
    "trusted": true
   },
   "outputs": [],
   "source": [
    "# This Python 3 environment comes with many helpful analytics libraries installed\n",
    "# It is defined by the kaggle/python Docker image: https://github.com/kaggle/docker-python\n",
    "# For example, here's several helpful packages to load\n",
    "\n",
    "import numpy as np # linear algebra\n",
    "import pandas as pd # data processing, CSV file I/O (e.g. pd.read_csv)\n",
    "\n",
    "# Input data files are available in the read-only \"../input/\" directory\n",
    "# For example, running this (by clicking run or pressing Shift+Enter) will list all files under the input directory\n",
    "\n",
    "\n",
    "\n",
    "# You can write up to 20GB to the current directory (/kaggle/working/) that gets preserved as output when you create a version using \"Save & Run All\" \n",
    "# You can also write temporary files to /kaggle/temp/, but they won't be saved outside of the current session"
   ]
  },
  {
   "cell_type": "code",
   "execution_count": 2,
   "metadata": {
    "execution": {
     "iopub.execute_input": "2024-11-19T09:01:33.041616Z",
     "iopub.status.busy": "2024-11-19T09:01:33.041239Z",
     "iopub.status.idle": "2024-11-19T09:01:33.940098Z",
     "shell.execute_reply": "2024-11-19T09:01:33.93903Z",
     "shell.execute_reply.started": "2024-11-19T09:01:33.041579Z"
    },
    "trusted": true
   },
   "outputs": [
    {
     "name": "stdout",
     "output_type": "stream",
     "text": [
      "Mean Squared Error (MSE): 4.1479411960517857e-22\n",
      "R-squared (R2): 1.0\n"
     ]
    }
   ],
   "source": [
    "# Import necessary libraries\n",
    "import pandas as pd\n",
    "from sklearn.model_selection import train_test_split\n",
    "from sklearn.linear_model import LinearRegression\n",
    "from sklearn.metrics import mean_squared_error, r2_score\n",
    "\n",
    "# Load the dataset\n",
    "# Replace 'your_dataset.csv' with the actual path to your dataset\n",
    "data = pd.read_csv('../financial_regression.csv')\n",
    "\n",
    "# Select features and target for predicting high-low range of S&P 500\n",
    "features = ['sp500 open', 'sp500 volume', 'sp500 high', 'sp500 low']  # Modify or add more features as needed\n",
    "target = 'sp500 high-low'  # Target is the high-low range for S&P 500\n",
    "\n",
    "# Drop rows with missing values in the selected columns\n",
    "data = data.dropna(subset=features + [target])\n",
    "\n",
    "# Define X (features) and y (target)\n",
    "X = data[features]\n",
    "y = data[target]\n",
    "\n",
    "# Split the data into training and testing sets\n",
    "X_train, X_test, y_train, y_test = train_test_split(X, y, test_size=0.2, random_state=42)\n",
    "\n",
    "# Initialize the linear regression model\n",
    "model = LinearRegression()\n",
    "\n",
    "# Train the model\n",
    "model.fit(X_train, y_train)\n",
    "\n",
    "# Make predictions\n",
    "y_pred = model.predict(X_test)\n",
    "\n",
    "# Evaluate the model\n",
    "mse = mean_squared_error(y_test, y_pred)\n",
    "r2 = r2_score(y_test, y_pred)\n",
    "\n",
    "# Print the evaluation metrics\n",
    "print(f\"Mean Squared Error (MSE): {mse}\")\n",
    "print(f\"R-squared (R2): {r2}\")\n",
    "\n",
    "\n",
    "\n"
   ]
  },
  {
   "cell_type": "code",
   "execution_count": 3,
   "metadata": {
    "execution": {
     "iopub.execute_input": "2024-11-19T09:03:13.200662Z",
     "iopub.status.busy": "2024-11-19T09:03:13.200289Z",
     "iopub.status.idle": "2024-11-19T09:03:15.444839Z",
     "shell.execute_reply": "2024-11-19T09:03:15.442331Z",
     "shell.execute_reply.started": "2024-11-19T09:03:13.200626Z"
    },
    "trusted": true
   },
   "outputs": [
    {
     "name": "stdout",
     "output_type": "stream",
     "text": [
      "Best Alpha: 0.01\n",
      "Mean Squared Error (MSE): 1.375688183342669e-11\n",
      "R-squared (R2): 0.9999999999981952\n"
     ]
    }
   ],
   "source": [
    "# Import necessary libraries\n",
    "from sklearn.model_selection import GridSearchCV\n",
    "from sklearn.linear_model import Ridge\n",
    "from sklearn.metrics import mean_squared_error, r2_score\n",
    "from sklearn.model_selection import train_test_split\n",
    "import pandas as pd\n",
    "\n",
    "\n",
    "# Select features and target for predicting high-low range of S&P 500\n",
    "features = ['sp500 open', 'sp500 volume', 'sp500 high', 'sp500 low']  # Modify or add more features as needed\n",
    "target = 'sp500 high-low'  # Target is the high-low range for S&P 500\n",
    "\n",
    "# Drop rows with missing values in the selected columns\n",
    "data = data.dropna(subset=features + [target])\n",
    "\n",
    "# Define X (features) and y (target)\n",
    "X = data[features]\n",
    "y = data[target]\n",
    "\n",
    "# Split the data into training and testing sets\n",
    "X_train, X_test, y_train, y_test = train_test_split(X, y, test_size=0.2, random_state=42)\n",
    "\n",
    "# Initialize the Ridge Regression model\n",
    "ridge_model = Ridge()\n",
    "\n",
    "# Define the hyperparameter grid for tuning\n",
    "param_grid = {'alpha': [0.01, 0.1, 1, 10, 100, 1000]}  # Range of values for alpha\n",
    "\n",
    "# Set up GridSearchCV for hyperparameter tuning\n",
    "grid_search = GridSearchCV(estimator=ridge_model, param_grid=param_grid, cv=5, scoring='neg_mean_squared_error', n_jobs=-1)\n",
    "\n",
    "# Perform the grid search on the training data\n",
    "grid_search.fit(X_train, y_train)\n",
    "\n",
    "# Get the best model from the grid search\n",
    "best_model = grid_search.best_estimator_\n",
    "\n",
    "# Predict using the best model\n",
    "y_pred = best_model.predict(X_test)\n",
    "\n",
    "# Evaluate the model\n",
    "mse = mean_squared_error(y_test, y_pred)\n",
    "r2 = r2_score(y_test, y_pred)\n",
    "\n",
    "# Print the evaluation metrics and best hyperparameters\n",
    "print(f\"Best Alpha: {grid_search.best_params_['alpha']}\")\n",
    "print(f\"Mean Squared Error (MSE): {mse}\")\n",
    "print(f\"R-squared (R2): {r2}\")\n",
    "\n",
    "\n",
    "\n"
   ]
  },
  {
   "cell_type": "code",
   "execution_count": 4,
   "metadata": {
    "execution": {
     "iopub.execute_input": "2024-11-19T09:06:06.335825Z",
     "iopub.status.busy": "2024-11-19T09:06:06.334963Z",
     "iopub.status.idle": "2024-11-19T09:06:07.610756Z",
     "shell.execute_reply": "2024-11-19T09:06:07.609923Z",
     "shell.execute_reply.started": "2024-11-19T09:06:06.335777Z"
    },
    "trusted": true
   },
   "outputs": [
    {
     "name": "stdout",
     "output_type": "stream",
     "text": [
      "Random Forest - Mean Squared Error (MSE): 1.9876840848532822\n",
      "Random Forest - R-squared (R2): 0.7392262212217817\n",
      "XGBoost - Mean Squared Error (MSE): 1.8686147765260925\n",
      "XGBoost - R-squared (R2): 0.7548474930856564\n"
     ]
    }
   ],
   "source": [
    "# Import necessary libraries\n",
    "import pandas as pd\n",
    "from sklearn.model_selection import train_test_split\n",
    "from sklearn.ensemble import RandomForestRegressor\n",
    "import xgboost as xgb\n",
    "from sklearn.metrics import mean_squared_error, r2_score\n",
    "\n",
    "\n",
    "\n",
    "# Select features and target for predicting high-low range of S&P 500\n",
    "features = ['sp500 open', 'sp500 volume', 'sp500 high', 'sp500 low']  # Modify or add more features as needed\n",
    "target = 'sp500 high-low'  # Target is the high-low range for S&P 500\n",
    "\n",
    "# Drop rows with missing values in the selected columns\n",
    "data = data.dropna(subset=features + [target])\n",
    "\n",
    "# Define X (features) and y (target)\n",
    "X = data[features]\n",
    "y = data[target]\n",
    "\n",
    "# Split the data into training and testing sets\n",
    "X_train, X_test, y_train, y_test = train_test_split(X, y, test_size=0.2, random_state=42)\n",
    "\n",
    "# -------------------- 1. Random Forest (Ensemble Learning) --------------------\n",
    "# Initialize Random Forest model\n",
    "rf_model = RandomForestRegressor(n_estimators=100, random_state=42)\n",
    "\n",
    "# Train the model\n",
    "rf_model.fit(X_train, y_train)\n",
    "\n",
    "# Make predictions\n",
    "rf_pred = rf_model.predict(X_test)\n",
    "\n",
    "# Evaluate the Random Forest model\n",
    "rf_mse = mean_squared_error(y_test, rf_pred)\n",
    "rf_r2 = r2_score(y_test, rf_pred)\n",
    "\n",
    "print(f\"Random Forest - Mean Squared Error (MSE): {rf_mse}\")\n",
    "print(f\"Random Forest - R-squared (R2): {rf_r2}\")\n",
    "\n",
    "# -------------------- 2. XGBoost (Boosting) --------------------\n",
    "# Initialize XGBoost model\n",
    "xg_model = xgb.XGBRegressor(n_estimators=100, learning_rate=0.1, random_state=42)\n",
    "\n",
    "# Train the XGBoost model\n",
    "xg_model.fit(X_train, y_train)\n",
    "\n",
    "# Make predictions\n",
    "xg_pred = xg_model.predict(X_test)\n",
    "\n",
    "# Evaluate the XGBoost model\n",
    "xg_mse = mean_squared_error(y_test, xg_pred)\n",
    "xg_r2 = r2_score(y_test, xg_pred)\n",
    "\n",
    "print(f\"XGBoost - Mean Squared Error (MSE): {xg_mse}\")\n",
    "print(f\"XGBoost - R-squared (R2): {xg_r2}\")\n",
    "\n",
    "\n",
    "\n"
   ]
  },
  {
   "cell_type": "code",
   "execution_count": null,
   "metadata": {},
   "outputs": [],
   "source": []
  }
 ],
 "metadata": {
  "kaggle": {
   "accelerator": "none",
   "dataSources": [
    {
     "datasetId": 5936111,
     "sourceId": 9705963,
     "sourceType": "datasetVersion"
    }
   ],
   "dockerImageVersionId": 30786,
   "isGpuEnabled": false,
   "isInternetEnabled": false,
   "language": "python",
   "sourceType": "notebook"
  },
  "kernelspec": {
   "display_name": "base",
   "language": "python",
   "name": "python3"
  },
  "language_info": {
   "codemirror_mode": {
    "name": "ipython",
    "version": 3
   },
   "file_extension": ".py",
   "mimetype": "text/x-python",
   "name": "python",
   "nbconvert_exporter": "python",
   "pygments_lexer": "ipython3",
   "version": "3.11.5"
  }
 },
 "nbformat": 4,
 "nbformat_minor": 4
}
