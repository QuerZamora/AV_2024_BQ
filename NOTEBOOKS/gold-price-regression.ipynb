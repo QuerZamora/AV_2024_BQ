{
 "cells": [
  {
   "cell_type": "raw",
   "metadata": {
    "_cell_guid": "b1076dfc-b9ad-4769-8c92-a6c4dae69d19",
    "_uuid": "8f2839f25d086af736a60e9eeb907d3b93b6e0e5"
   },
   "source": [
    "# This Python 3 environment comes with many helpful analytics libraries installed\n",
    "# It is defined by the kaggle/python Docker image: https://github.com/kaggle/docker-python\n",
    "# For example, here's several helpful packages to load\n",
    "\n",
    "import numpy as np # linear algebra\n",
    "import pandas as pd # data processing, CSV file I/O (e.g. pd.read_csv)\n",
    "\n",
    "# Input data files are available in the read-only \"../input/\" directory\n",
    "# For example, running this (by clicking run or pressing Shift+Enter) will list all files under the input directory\n",
    "\n",
    "import os\n",
    "for dirname, _, filenames in os.walk('/kaggle/input'):\n",
    "    for filename in filenames:\n",
    "        print(os.path.join(dirname, filename))\n",
    "\n",
    "# You can write up to 20GB to the current directory (/kaggle/working/) that gets preserved as output when you create a version using \"Save & Run All\" \n",
    "# You can also write temporary files to /kaggle/temp/, but they won't be saved outside of the current session"
   ]
  },
  {
   "cell_type": "code",
   "execution_count": null,
   "metadata": {
    "execution": {
     "iopub.execute_input": "2024-11-19T08:43:32.900186Z",
     "iopub.status.busy": "2024-11-19T08:43:32.8987Z",
     "iopub.status.idle": "2024-11-19T08:43:33.301794Z",
     "shell.execute_reply": "2024-11-19T08:43:33.30075Z",
     "shell.execute_reply.started": "2024-11-19T08:43:32.900125Z"
    },
    "trusted": true
   },
   "outputs": [],
   "source": [
    "import pandas as pd\n",
    "df = pd.read_csv(\"financial_regression.csv\")"
   ]
  },
  {
   "cell_type": "code",
   "execution_count": null,
   "metadata": {
    "execution": {
     "iopub.execute_input": "2024-11-19T08:43:42.764181Z",
     "iopub.status.busy": "2024-11-19T08:43:42.763778Z",
     "iopub.status.idle": "2024-11-19T08:43:42.801697Z",
     "shell.execute_reply": "2024-11-19T08:43:42.800497Z",
     "shell.execute_reply.started": "2024-11-19T08:43:42.764142Z"
    },
    "trusted": true
   },
   "outputs": [],
   "source": [
    "df.head()"
   ]
  },
  {
   "cell_type": "code",
   "execution_count": null,
   "metadata": {
    "execution": {
     "iopub.execute_input": "2024-11-19T08:43:58.090507Z",
     "iopub.status.busy": "2024-11-19T08:43:58.09011Z",
     "iopub.status.idle": "2024-11-19T08:43:58.097649Z",
     "shell.execute_reply": "2024-11-19T08:43:58.096348Z",
     "shell.execute_reply.started": "2024-11-19T08:43:58.090467Z"
    },
    "trusted": true
   },
   "outputs": [],
   "source": [
    "df.shape"
   ]
  },
  {
   "cell_type": "code",
   "execution_count": null,
   "metadata": {
    "execution": {
     "iopub.execute_input": "2024-11-19T08:44:14.663598Z",
     "iopub.status.busy": "2024-11-19T08:44:14.662871Z",
     "iopub.status.idle": "2024-11-19T08:44:14.691216Z",
     "shell.execute_reply": "2024-11-19T08:44:14.690076Z",
     "shell.execute_reply.started": "2024-11-19T08:44:14.663558Z"
    },
    "trusted": true
   },
   "outputs": [],
   "source": [
    "df.info()"
   ]
  },
  {
   "cell_type": "code",
   "execution_count": null,
   "metadata": {
    "execution": {
     "iopub.execute_input": "2024-11-19T08:44:57.966257Z",
     "iopub.status.busy": "2024-11-19T08:44:57.965839Z",
     "iopub.status.idle": "2024-11-19T08:44:57.981958Z",
     "shell.execute_reply": "2024-11-19T08:44:57.980732Z",
     "shell.execute_reply.started": "2024-11-19T08:44:57.966224Z"
    },
    "trusted": true
   },
   "outputs": [],
   "source": [
    "df.sum().isnull()"
   ]
  },
  {
   "cell_type": "code",
   "execution_count": null,
   "metadata": {
    "execution": {
     "iopub.execute_input": "2024-11-19T08:52:41.968538Z",
     "iopub.status.busy": "2024-11-19T08:52:41.968115Z",
     "iopub.status.idle": "2024-11-19T08:52:41.991459Z",
     "shell.execute_reply": "2024-11-19T08:52:41.99019Z",
     "shell.execute_reply.started": "2024-11-19T08:52:41.9685Z"
    },
    "trusted": true
   },
   "outputs": [],
   "source": [
    "# Import necessary libraries\n",
    "import pandas as pd\n",
    "from sklearn.model_selection import train_test_split\n",
    "from sklearn.linear_model import LinearRegression\n",
    "from sklearn.metrics import mean_squared_error, r2_score\n",
    "\n",
    "\n",
    "# Select features and target\n",
    "features = ['sp500 open', 'sp500 high', 'sp500 low', 'sp500 volume', 'sp500 high-low']\n",
    "target = 'sp500 close'\n",
    "\n",
    "# Drop rows with missing values\n",
    "df = df.dropna(subset=features + [target])\n",
    "\n",
    "# Define X (features) and y (target)\n",
    "X = df[features]\n",
    "y = df[target]\n",
    "\n",
    "# Split the data into training and testing sets\n",
    "X_train, X_test, y_train, y_test = train_test_split(X, y, test_size=0.2, random_state=42)\n",
    "\n",
    "# Initialize the linear regression model\n",
    "model = LinearRegression()\n",
    "\n",
    "# Train the model\n",
    "model.fit(X_train, y_train)\n",
    "\n",
    "# Make predictions\n",
    "y_pred = model.predict(X_test)\n",
    "\n",
    "# Evaluate the model\n",
    "mse = mean_squared_error(y_test, y_pred)\n",
    "r2 = r2_score(y_test, y_pred)\n",
    "\n",
    "# Print the evaluation metrics\n",
    "print(f\"Mean Squared Error (MSE): {mse}\")\n",
    "print(f\"R-squared (R2): {r2}\")\n",
    "\n",
    "\n"
   ]
  },
  {
   "cell_type": "code",
   "execution_count": null,
   "metadata": {
    "execution": {
     "iopub.execute_input": "2024-11-19T08:53:50.839824Z",
     "iopub.status.busy": "2024-11-19T08:53:50.839288Z",
     "iopub.status.idle": "2024-11-19T08:53:53.153283Z",
     "shell.execute_reply": "2024-11-19T08:53:53.149133Z",
     "shell.execute_reply.started": "2024-11-19T08:53:50.839779Z"
    },
    "trusted": true
   },
   "outputs": [],
   "source": [
    "# Import necessary libraries\n",
    "from sklearn.model_selection import GridSearchCV\n",
    "from sklearn.linear_model import Ridge\n",
    "from sklearn.metrics import mean_squared_error, r2_score\n",
    "\n",
    "# Define the Ridge Regression model\n",
    "ridge_model = Ridge()\n",
    "\n",
    "# Define the hyperparameter grid\n",
    "param_grid = {'alpha': [0.01, 0.1, 1, 10, 100]}\n",
    "\n",
    "# Set up GridSearchCV\n",
    "grid_search = GridSearchCV(estimator=ridge_model, param_grid=param_grid, cv=5, scoring='neg_mean_squared_error', n_jobs=-1)\n",
    "\n",
    "# Perform the grid search on the training data\n",
    "grid_search.fit(X_train, y_train)\n",
    "\n",
    "# Get the best model from the grid search\n",
    "best_model = grid_search.best_estimator_\n",
    "\n",
    "# Predict using the best model\n",
    "y_pred = best_model.predict(X_test)\n",
    "\n",
    "# Evaluate the model\n",
    "mse = mean_squared_error(y_test, y_pred)\n",
    "r2 = r2_score(y_test, y_pred)\n",
    "\n",
    "# Print the evaluation metrics\n",
    "print(f\"Best Alpha: {grid_search.best_params_['alpha']}\")\n",
    "print(f\"Mean Squared Error (MSE): {mse}\")\n",
    "print(f\"R-squared (R2): {r2}\")\n"
   ]
  },
  {
   "cell_type": "code",
   "execution_count": null,
   "metadata": {
    "execution": {
     "iopub.execute_input": "2024-11-19T08:55:14.501331Z",
     "iopub.status.busy": "2024-11-19T08:55:14.500799Z",
     "iopub.status.idle": "2024-11-19T08:55:14.753789Z",
     "shell.execute_reply": "2024-11-19T08:55:14.752343Z",
     "shell.execute_reply.started": "2024-11-19T08:55:14.501287Z"
    },
    "trusted": true
   },
   "outputs": [],
   "source": [
    "from sklearn.ensemble import BaggingRegressor\n",
    "from sklearn.linear_model import Ridge\n",
    "from sklearn.metrics import mean_squared_error, r2_score\n",
    "\n",
    "# Initialize Ridge Regression as the base model\n",
    "ridge_model = Ridge(alpha=1.0)\n",
    "\n",
    "# Set up the Bagging Regressor\n",
    "bagging_model = BaggingRegressor(\n",
    "    base_estimator=ridge_model,\n",
    "    n_estimators=10,  # Number of base models\n",
    "    max_samples=0.8,  # Fraction of the dataset to sample for each base model\n",
    "    max_features=0.8,  # Fraction of features to use for each base model\n",
    "    random_state=42\n",
    ")\n",
    "\n",
    "# Train the Bagging Regressor\n",
    "bagging_model.fit(X_train, y_train)\n",
    "\n",
    "# Make predictions\n",
    "y_pred = bagging_model.predict(X_test)\n",
    "\n",
    "# Evaluate the model\n",
    "mse = mean_squared_error(y_test, y_pred)\n",
    "r2 = r2_score(y_test, y_pred)\n",
    "\n",
    "# Print evaluation metrics\n",
    "print(f\"Mean Squared Error (MSE): {mse}\")\n",
    "print(f\"R-squared (R2): {r2}\")\n"
   ]
  },
  {
   "cell_type": "code",
   "execution_count": null,
   "metadata": {
    "execution": {
     "iopub.execute_input": "2024-11-19T08:55:50.469243Z",
     "iopub.status.busy": "2024-11-19T08:55:50.468789Z",
     "iopub.status.idle": "2024-11-19T08:55:51.084261Z",
     "shell.execute_reply": "2024-11-19T08:55:51.083041Z",
     "shell.execute_reply.started": "2024-11-19T08:55:50.469206Z"
    },
    "trusted": true
   },
   "outputs": [],
   "source": [
    "from sklearn.ensemble import GradientBoostingRegressor\n",
    "\n",
    "# Initialize the Gradient Boosting Regressor\n",
    "boosting_model = GradientBoostingRegressor(\n",
    "    n_estimators=100,  # Number of boosting stages\n",
    "    learning_rate=0.1,  # Shrinks the contribution of each tree\n",
    "    max_depth=3,  # Maximum depth of individual estimators\n",
    "    random_state=42\n",
    ")\n",
    "\n",
    "# Train the Gradient Boosting Regressor\n",
    "boosting_model.fit(X_train, y_train)\n",
    "\n",
    "# Make predictions\n",
    "y_pred = boosting_model.predict(X_test)\n",
    "\n",
    "# Evaluate the model\n",
    "mse = mean_squared_error(y_test, y_pred)\n",
    "r2 = r2_score(y_test, y_pred)\n",
    "\n",
    "# Print evaluation metrics\n",
    "print(f\"Mean Squared Error (MSE): {mse}\")\n",
    "print(f\"R-squared (R2): {r2}\")\n"
   ]
  },
  {
   "cell_type": "code",
   "execution_count": null,
   "metadata": {},
   "outputs": [],
   "source": []
  }
 ],
 "metadata": {
  "kaggle": {
   "accelerator": "none",
   "dataSources": [
    {
     "datasetId": 5936111,
     "sourceId": 9705963,
     "sourceType": "datasetVersion"
    }
   ],
   "dockerImageVersionId": 30786,
   "isGpuEnabled": false,
   "isInternetEnabled": false,
   "language": "python",
   "sourceType": "notebook"
  },
  "kernelspec": {
   "display_name": "Python 3",
   "language": "python",
   "name": "python3"
  },
  "language_info": {
   "codemirror_mode": {
    "name": "ipython",
    "version": 3
   },
   "file_extension": ".py",
   "mimetype": "text/x-python",
   "name": "python",
   "nbconvert_exporter": "python",
   "pygments_lexer": "ipython3",
   "version": "3.10.14"
  }
 },
 "nbformat": 4,
 "nbformat_minor": 4
}
